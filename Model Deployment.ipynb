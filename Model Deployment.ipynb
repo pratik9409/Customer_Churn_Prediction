{
 "cells": [
  {
   "cell_type": "code",
   "execution_count": 1,
   "id": "c725880b",
   "metadata": {},
   "outputs": [],
   "source": [
    "from flask import Flask, render_template, request\n",
    "import joblib\n",
    "from datetime import date"
   ]
  },
  {
   "cell_type": "code",
   "execution_count": 2,
   "id": "365347ad",
   "metadata": {},
   "outputs": [],
   "source": [
    "year = date.today().year"
   ]
  },
  {
   "cell_type": "code",
   "execution_count": 3,
   "id": "66ce4e78",
   "metadata": {},
   "outputs": [
    {
     "data": {
      "text/plain": [
       "RandomizedSearchCV(estimator=BaggingClassifier(oob_score=True, random_state=101,\n",
       "                                               verbose=2),\n",
       "                   param_distributions={'bootstrap': [True, False],\n",
       "                                        'max_features': array([0.  , 0.25, 0.5 , 0.75, 1.  ]),\n",
       "                                        'max_samples': [0.24, 0.58, 0.71, 0.96],\n",
       "                                        'n_estimators': [200, 500, 800, 1000],\n",
       "                                        'warm_start': [True, False]},\n",
       "                   verbose=4)"
      ]
     },
     "execution_count": 3,
     "metadata": {},
     "output_type": "execute_result"
    }
   ],
   "source": [
    "model = joblib.load('model.pkl')\n",
    "model"
   ]
  },
  {
   "cell_type": "code",
   "execution_count": 4,
   "id": "865e5321",
   "metadata": {},
   "outputs": [
    {
     "data": {
      "text/plain": [
       "StandardScaler()"
      ]
     },
     "execution_count": 4,
     "metadata": {},
     "output_type": "execute_result"
    }
   ],
   "source": [
    "scaler = joblib.load('scaler.bin')\n",
    "scaler"
   ]
  },
  {
   "cell_type": "code",
   "execution_count": 5,
   "id": "4fb5ce67",
   "metadata": {},
   "outputs": [
    {
     "data": {
      "text/plain": [
       "{'Platinum Membership': 3,\n",
       " 'Premium Membership': 4,\n",
       " 'No Membership': 2,\n",
       " 'Gold Membership': 1,\n",
       " 'Silver Membership': 5,\n",
       " 'Basic Membership': 0}"
      ]
     },
     "execution_count": 5,
     "metadata": {},
     "output_type": "execute_result"
    }
   ],
   "source": [
    "membership_categories = ['Platinum Membership','Premium Membership','No Membership',\n",
    " 'Gold Membership','Silver Membership','Basic Membership']\n",
    "membership_val = [3,4,2,1,5,0]\n",
    "membership_encoded = dict(zip(membership_categories,membership_val))\n",
    "membership_encoded"
   ]
  },
  {
   "cell_type": "code",
   "execution_count": 6,
   "id": "68ee625b",
   "metadata": {},
   "outputs": [
    {
     "data": {
      "text/plain": [
       "{'?': 3, 'Desktop': 1, 'Smartphone': 2, 'Both': 0}"
      ]
     },
     "execution_count": 6,
     "metadata": {},
     "output_type": "execute_result"
    }
   ],
   "source": [
    "mediums_of_operation = ['?','Desktop','Smartphone','Both']\n",
    "moo_val = [3,1,2,0]\n",
    "medium_operation_encoded = dict(zip(mediums_of_operation,moo_val))\n",
    "medium_operation_encoded"
   ]
  },
  {
   "cell_type": "code",
   "execution_count": 7,
   "id": "90a6d9e1",
   "metadata": {},
   "outputs": [
    {
     "data": {
      "text/plain": [
       "{'January': 1,\n",
       " 'February': 2,\n",
       " 'March': 3,\n",
       " 'April': 4,\n",
       " 'May': 5,\n",
       " 'June': 6,\n",
       " 'July': 7,\n",
       " 'August': 8,\n",
       " 'September': 9,\n",
       " 'October': 10,\n",
       " 'November': 11,\n",
       " 'December': 12}"
      ]
     },
     "execution_count": 7,
     "metadata": {},
     "output_type": "execute_result"
    }
   ],
   "source": [
    "joining_months = ['January','February','March','April','May','June','July','August','September','October','November','December']\n",
    "months_encoded = [1,2,3,4,5,6,7,8,9,10,11,12]\n",
    "joining_months_encoded = dict(zip(joining_months,months_encoded))\n",
    "joining_months_encoded"
   ]
  },
  {
   "cell_type": "code",
   "execution_count": 8,
   "id": "17688e0e",
   "metadata": {},
   "outputs": [
    {
     "data": {
      "text/plain": [
       "{'Monday': 0,\n",
       " 'Tuesday': 1,\n",
       " 'Wednesday': 2,\n",
       " 'Thursday': 3,\n",
       " 'Friday': 4,\n",
       " 'Saturday': 5,\n",
       " 'Sunday': 6}"
      ]
     },
     "execution_count": 8,
     "metadata": {},
     "output_type": "execute_result"
    }
   ],
   "source": [
    "days_of_week = ['Monday','Tuesday','Wednesday','Thursday','Friday','Saturday','Sunday']\n",
    "days_encoded = [0,1,2,3,4,5,6]\n",
    "days_of_week_encoded = dict(zip(days_of_week,days_encoded))\n",
    "days_of_week_encoded"
   ]
  },
  {
   "cell_type": "code",
   "execution_count": 9,
   "id": "4f841da6",
   "metadata": {},
   "outputs": [],
   "source": [
    "app = Flask(__name__)"
   ]
  },
  {
   "cell_type": "code",
   "execution_count": 10,
   "id": "88f775dd",
   "metadata": {},
   "outputs": [],
   "source": [
    "@app.route(\"/\")\n",
    "def home():\n",
    "    return render_template('home.html',current_year=year,weekdays=days_of_week,months=joining_months,operation_mediums=mediums_of_operation,mem_categories=membership_categories)"
   ]
  },
  {
   "cell_type": "code",
   "execution_count": 11,
   "id": "7cd92b7e",
   "metadata": {},
   "outputs": [],
   "source": [
    "@app.route(\"/predict\", methods=[\"GET\",\"POST\"])\n",
    "def predict():\n",
    "    if request.method == \"POST\":\n",
    "        age = request.form['age'] #Range: (10,64)\n",
    "        gender_selected = request.form['gender']\n",
    "        gender = -5\n",
    "        if gender_selected == 'Male':\n",
    "            gender = 1\n",
    "        elif gender_selected == 'Female': \n",
    "            gender = 0\n",
    "        elif gender_selected == 'Unknown':\n",
    "            gender = -1\n",
    "        region_selected = request.form['region']\n",
    "        region = -1\n",
    "        if region_selected == 'Village': \n",
    "            region = 2\n",
    "        elif region_selected == 'City': \n",
    "            region = 0\n",
    "        elif region_selected == 'Town':\n",
    "            region = 1\n",
    "        membership_selected = request.form['membership_category']\n",
    "        membership = membership_encoded[membership_selected]\n",
    "        referral_selected = request.form['joined_through_referral']\n",
    "        referral = -2\n",
    "        if referral_selected == 'No':\n",
    "            referral = 0\n",
    "        elif referral_selected == 'Yes':\n",
    "            referral = 1\n",
    "        elif referral_selected == 'Unknown':\n",
    "            referral = -1\n",
    "        offer_selected = request.form['preferred_offer_types']\n",
    "        preferred_offer_type = -1\n",
    "        if offer_selected == 'Gift Vouchers/Coupons': \n",
    "            preferred_offer_type = 1\n",
    "        elif offer_selected == 'Credit/Debit Card Offers': \n",
    "            preferred_offer_type = 0\n",
    "        elif offer_selected == 'Without Offers':\n",
    "            preferred_offer_type = 2\n",
    "        mo_op_selected = request.form['medium_of_operation']\n",
    "        medium = medium_operation_encoded[mo_op_selected]\n",
    "        net_selected = request.form['internet_option']\n",
    "        internet_option = -1\n",
    "        if net_selected == 'Wi-Fi': \n",
    "            internet_option = 0\n",
    "        elif net_selected == 'Mobile Data': \n",
    "            internet_option = 1\n",
    "        elif net_selected == 'Fiber Optic':\n",
    "            internet_option = 2\n",
    "        days_since_last_login = request.form['days_since_last_login'] #Range: (0,30)\n",
    "        avg_time_spent = request.form['avg_time_spent'] #Range: (0,801)\n",
    "        avg_transaction_val = request.form['avg_transaction_val'] #Range: (800.460,80871.465)\n",
    "        avg_frequency_login_days = request.form['avg_frequency_login_days'] #Range: (0,73)\n",
    "        points_in_wallet = request.form['points_in_wallet'] #Range: (425.37,955.98)\n",
    "        used_special_discount = request.form['used_special_discount']\n",
    "        discount = -1\n",
    "        if used_special_discount == 'No':\n",
    "            discount = 0\n",
    "        elif used_special_discount == 'Yes':\n",
    "            discount = 1\n",
    "        offer_application_preference = request.form['offer_application_preference']\n",
    "        offer_app_pref = -1\n",
    "        if offer_application_preference == 'No':\n",
    "            offer_app_pref = 0\n",
    "        elif offer_application_preference == 'Yes':\n",
    "            offer_app_pref = 1\n",
    "        past_complaint = request.form['past_complaint']\n",
    "        complaint = -1\n",
    "        if past_complaint == 'No':\n",
    "            complaint = 0\n",
    "        elif past_complaint == 'Yes':\n",
    "            complaint = 1\n",
    "        complaint_status_selected = request.form['complaint_status']\n",
    "        complaint_status = -5\n",
    "        if complaint_status_selected == 'Solved':\n",
    "            complaint_status = 1\n",
    "        elif complaint_status_selected == 'Unsolved':\n",
    "            complaint_status = 0\n",
    "        elif complaint_status_selected == 'Unknown':\n",
    "            complaint_status = -1\n",
    "        feedback_selected = request.form['feedback']\n",
    "        feedback = -5\n",
    "        if feedback_selected in ['Poor Product Quality','Too many ads','Poor Website','Poor Customer Service']:\n",
    "            feedback = -1\n",
    "        elif feedback_selected in ['Reasonable Price','User Friendly Website','Products always in Stock','Quality Customer Care']:\n",
    "            feedback = 1\n",
    "        elif feedback_selected in ['None']:\n",
    "            feedback = 0\n",
    "        joining_day = request.form['joining_day'] #Range: (1,31) \n",
    "        joining_year_selected = request.form['joining_year'] \n",
    "        joining_year = -1 \n",
    "        if joining_year_selected == '2015':\n",
    "            joining_year = 2015\n",
    "        elif joining_year_selected == '2016':\n",
    "            joining_year = 2016\n",
    "        elif joining_year_selected == '2017':\n",
    "            joining_year = 2017\n",
    "        joining_month_selected = request.form['joining_month'] #Range: (1,12)\n",
    "        joining_month = joining_months_encoded[joining_month_selected]\n",
    "        joining_day_of_week_selected = request.form['joining_day_of_week'] #Range: (0,6)\n",
    "        joining_day_of_week = days_of_week_encoded[joining_day_of_week_selected]\n",
    "        last_visit_hour = request.form['last_visit_hour'] #Range: (0,23)\n",
    "        last_visit_min = request.form['last_visit_min'] #Range: (0,59)\n",
    "        last_visit_sec = request.form['last_visit_sec'] #Range: (0,59)\n",
    "        \n",
    "        X_test = scaler.transform([[\n",
    "            age,\n",
    "            gender,\n",
    "            region,\n",
    "            membership,\n",
    "            referral,\n",
    "            preferred_offer_type,\n",
    "            medium,\n",
    "            internet_option,\n",
    "            days_since_last_login,\n",
    "            avg_time_spent,\n",
    "            avg_transaction_val,\n",
    "            avg_frequency_login_days,\n",
    "            points_in_wallet,\n",
    "            discount,\n",
    "            offer_app_pref,\n",
    "            complaint,\n",
    "            complaint_status,\n",
    "            feedback,\n",
    "            joining_day,\n",
    "            joining_year,\n",
    "            joining_month,\n",
    "            joining_day_of_week,\n",
    "            last_visit_hour,\n",
    "            last_visit_min,\n",
    "            last_visit_sec\n",
    "        ]])\n",
    "        \n",
    "        predictions = model.predict(X_test)\n",
    "        output = predictions[0]\n",
    "        \n",
    "        if output == 0:\n",
    "            return render_template('home.html',current_year=year,weekdays=days_of_week,months=joining_months,operation_mediums=mediums_of_operation,mem_categories=membership_categories,prediction_text=\"The customer with the given details is very likely to stop acquiring the services of the respected company.\")\n",
    "        elif output == 1:\n",
    "            return render_template('home.html',current_year=year,weekdays=days_of_week,months=joining_months,operation_mediums=mediums_of_operation,mem_categories=membership_categories,prediction_text=\"The customer with the given details is highly likely to continue getting the services of the respected company.\")"
   ]
  },
  {
   "cell_type": "code",
   "execution_count": null,
   "id": "bab708a8",
   "metadata": {},
   "outputs": [
    {
     "name": "stdout",
     "output_type": "stream",
     "text": [
      " * Serving Flask app \"__main__\" (lazy loading)\n",
      " * Environment: production\n",
      "\u001b[31m   WARNING: This is a development server. Do not use it in a production deployment.\u001b[0m\n",
      "\u001b[2m   Use a production WSGI server instead.\u001b[0m\n",
      " * Debug mode: off\n"
     ]
    },
    {
     "name": "stderr",
     "output_type": "stream",
     "text": [
      " * Running on http://127.0.0.1:8080/ (Press CTRL+C to quit)\n"
     ]
    }
   ],
   "source": [
    "if __name__ == \"__main__\":\n",
    "    app.run(port=8080)"
   ]
  }
 ],
 "metadata": {
  "kernelspec": {
   "display_name": "Python 3 (ipykernel)",
   "language": "python",
   "name": "python3"
  },
  "language_info": {
   "codemirror_mode": {
    "name": "ipython",
    "version": 3
   },
   "file_extension": ".py",
   "mimetype": "text/x-python",
   "name": "python",
   "nbconvert_exporter": "python",
   "pygments_lexer": "ipython3",
   "version": "3.8.8"
  }
 },
 "nbformat": 4,
 "nbformat_minor": 5
}
